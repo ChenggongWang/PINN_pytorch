{
 "cells": [
  {
   "cell_type": "code",
   "execution_count": 1,
   "metadata": {
    "collapsed": false,
    "jupyter": {
     "outputs_hidden": false
    }
   },
   "outputs": [],
   "source": [
    "%matplotlib inline\n",
    "import matplotlib.pyplot as plt\n",
    "from matplotlib.colors import BoundaryNorm"
   ]
  },
  {
   "cell_type": "code",
   "execution_count": 2,
   "metadata": {
    "collapsed": false,
    "jupyter": {
     "outputs_hidden": false
    }
   },
   "outputs": [],
   "source": [
    "import torch\n",
    "import numpy as np\n",
    "from torch import nn\n",
    "from torch.utils.data import DataLoader\n",
    "from torchvision import datasets\n",
    "from torchvision.transforms import ToTensor, Lambda\n",
    "import math\n"
   ]
  },
  {
   "cell_type": "code",
   "execution_count": 3,
   "metadata": {},
   "outputs": [],
   "source": [
    "if torch.cuda.is_available():\n",
    "    device = torch.device('cuda')\n",
    "else:\n",
    "    device = torch.device('cpu')"
   ]
  },
  {
   "cell_type": "code",
   "execution_count": 4,
   "metadata": {},
   "outputs": [],
   "source": [
    "\n",
    "# define ANN structure\n",
    "class NeuralNetwork(nn.Module):\n",
    "    def __init__(self):\n",
    "        super(NeuralNetwork, self).__init__()\n",
    "        self.flatten = nn.Flatten()\n",
    "        self.linear_Tanh_stack = nn.Sequential(\n",
    "            nn.Linear(3, 20),\n",
    "            nn.Tanh(),\n",
    "            nn.Linear(20, 20),\n",
    "            nn.Tanh(),\n",
    "            nn.Linear(20, 20),\n",
    "            nn.Tanh(),\n",
    "            nn.Linear(20, 20),\n",
    "            nn.Tanh(),\n",
    "            nn.Linear(20, 20),\n",
    "            nn.Tanh(),\n",
    "            nn.Linear(20, 20),\n",
    "            nn.Tanh(),\n",
    "            nn.Linear(20, 20),\n",
    "            nn.Tanh(),\n",
    "            nn.Linear(20, 20),\n",
    "            nn.Tanh(),\n",
    "            nn.Linear(20, 1),\n",
    "        )\n",
    "\n",
    "    def forward(self, x):\n",
    "        logits = self.linear_Tanh_stack(x)\n",
    "        return logits\n",
    "# define PINN structure\n",
    "class PINN():\n",
    "    def __init__(self,t_axis, x_axis, y_axis, IC_func):\n",
    "        # accounting for scale change by normalization\n",
    "        self.t_min_max = [t_axis.min(),t_axis.max()]\n",
    "        self.x_min_max = [x_axis.min(),x_axis.max()]\n",
    "        self.y_min_max = [y_axis.min(),y_axis.max()]\n",
    "        self.t_grad_scale = torch.tensor(1/(t_axis.max()-t_axis.min())).to(device) \n",
    "        self.x_grad_scale = torch.tensor(1/(x_axis.max()-x_axis.min())).to(device) \n",
    "        self.y_grad_scale = torch.tensor(1/(y_axis.max()-y_axis.min())).to(device) \n",
    "        \n",
    "        # initialization grids from regular x and t\n",
    "        # Collocation points \n",
    "        t_axis_nor, x_axis_nor, y_axis_nor = self.coordination_normalization(t_axis, x_axis, y_axis)\n",
    "        self.txy_col = self.cartesian_coord_to_ij(t_axis_nor, x_axis_nor, y_axis_nor) \n",
    "        # BC points\n",
    "        self.BC_txy_xl  = self.cartesian_coord_to_ij(t_axis_nor, x_axis_nor[ 0], y_axis_nor    )\n",
    "        self.BC_txy_xr  = self.cartesian_coord_to_ij(t_axis_nor, x_axis_nor[-1], y_axis_nor    )  \n",
    "        self.BC_txy_yl  = self.cartesian_coord_to_ij(t_axis_nor, x_axis_nor    , y_axis_nor[ 0])\n",
    "        self.BC_txy_yr  = self.cartesian_coord_to_ij(t_axis_nor, x_axis_nor    , y_axis_nor[-1])  \n",
    "        # IC points \n",
    "        self.IC_txy  = self.cartesian_coord_to_ij(t_axis_nor[0], x_axis_nor, y_axis_nor)\n",
    "        IC_x,IC_y = np.meshgrid(x_axis, y_axis, indexing='ij') \n",
    "        IC_expected = IC_func(IC_x,IC_y) # x before normalization\n",
    "        self.IC_expected = torch.tensor(IC_expected.reshape((-1,1))).to(device) \n",
    "        # Collocation points with require gradient = True\n",
    "        self.txy_col.requires_grad  = True\n",
    "        self.BC_txy_xl.requires_grad = True\n",
    "        self.BC_txy_xr.requires_grad = True\n",
    "        self.BC_txy_yl.requires_grad = True\n",
    "        self.BC_txy_yr.requires_grad = True\n",
    "     # initial ANN\n",
    "        self.NN_model = NeuralNetwork().to(device)\n",
    "#         self.optimizer = torch.optim.SGD(self.NN_model.parameters(),lr=0.01)\n",
    "        self.optimizer = torch.optim.Adam(self.NN_model.parameters(), lr=0.002, betas=(0.9, 0.999))\n",
    "\n",
    "    def cartesian_coord_to_ij(self, t_axis, x_axis, y_axis):\n",
    "        t_col,x_col,y_col = np.meshgrid(t_axis, x_axis, y_axis, indexing='ij') \n",
    "        # time & space mesh in rows\n",
    "        txy_col = np.concatenate((t_col.reshape(-1,1), \n",
    "                                  x_col.reshape(-1,1), \n",
    "                                  y_col.reshape(-1,1)), \n",
    "                                  axis=1,dtype='float32')\n",
    "        return torch.tensor(txy_col).to(device) \n",
    "\n",
    "    def coordination_normalization(self,t_axis,x_axis,y_axis):\n",
    "        t_axis_nor = (t_axis-self.t_min_max[0])*self.t_grad_scale.item()-0.5\n",
    "        x_axis_nor = (x_axis-self.x_min_max[0])*self.x_grad_scale.item()-0.5\n",
    "        y_axis_nor = (y_axis-self.x_min_max[0])*self.y_grad_scale.item()-0.5\n",
    "        return t_axis_nor, x_axis_nor ,y_axis_nor \n",
    "\n",
    "    # define loss function\n",
    "    def output_gradient(self,col_point):\n",
    "        output = self.NN_model(col_point)\n",
    "        output_tx = torch.autograd.grad(output,col_point,\n",
    "                                        grad_outputs=torch.ones_like(output), \n",
    "                                        create_graph=True)[0]\n",
    "        return output_tx\n",
    "\n",
    "    def loss_PDE(self,col_point):\n",
    "        output_t_x_y = self.output_gradient(col_point)\n",
    "        output_t = output_t_x_y[:,0]\n",
    "        output_x = output_t_x_y[:,1]\n",
    "        output_y = output_t_x_y[:,2]\n",
    "        # PDE:\n",
    "        # \\frac{\\partial A}{\\partial t} + u*\\frac{\\partial A}{\\partial x}+ v*\\frac{\\partial A}{\\partial y} = 0\n",
    "        u = torch.tensor(1.0, requires_grad=True).to(device)\n",
    "        v = torch.tensor(1.0, requires_grad=True).to(device)\n",
    "        LHS = output_t  # partial t\n",
    "        RHS = - u * output_x *(self.x_grad_scale/self.t_grad_scale)\\\n",
    "              - v * output_y *(self.y_grad_scale/self.t_grad_scale) \n",
    "        loss_fn = torch.nn.MSELoss()(LHS, RHS)\n",
    "        return loss_fn\n",
    "\n",
    "    def loss_BC(self):\n",
    "        # setup periodic B.C. via loss function\n",
    "        # (mixed type with derivative periodic need to test)\n",
    "        # 1st type B.C. via loss function\n",
    "        # periodic values,  output(left) = output(right)\n",
    "        output_bc_xl = self.NN_model(self.BC_txy_xl)\n",
    "        output_bc_xr = self.NN_model(self.BC_txy_xr)\n",
    "        output_bc_yl = self.NN_model(self.BC_txy_yl)\n",
    "        output_bc_yr = self.NN_model(self.BC_txy_yr)\n",
    "        loss         = torch.nn.MSELoss()(output_bc_xl, output_bc_xr)\n",
    "        loss        += torch.nn.MSELoss()(output_bc_yl, output_bc_yr)\n",
    "#         # 2nd B.C. derivative via loss function # need more research\n",
    "#         # periodic derivative, for t=?, output_xt(x=-1) = output_xt(x=1)\n",
    "#         output_bc_l_xt = self.output_gradient(self.BC_tx_l)\n",
    "#         output_bc_r_xt = self.output_gradient(self.BC_tx_r)\n",
    "#         loss       += torch.nn.MSELoss()(output_bc_l_xt, output_bc_r_xt)\n",
    "        return loss\n",
    "\n",
    "    def loss_IC(self):\n",
    "        # periodic values, for x=?, output(t=0) = IC_expected\n",
    "        output = self.NN_model(self.IC_txy)\n",
    "        loss = torch.nn.MSELoss()(output, self.IC_expected)\n",
    "        return loss\n",
    "    \n",
    "    def col_poi_batch_index_sta_end(self,col_poi,col_poi_batch_size):\n",
    "        n_batch = math.ceil(col_poi.shape[0]/col_poi_batch_size)\n",
    "        col_poi_batchs = []\n",
    "        sta=0\n",
    "        for i in range(n_batch-1):\n",
    "            end = sta + col_poi_batch_size\n",
    "            col_poi_batchs.append(col_poi[sta:end,:])\n",
    "            sta = end\n",
    "        col_poi_batchs.append(col_poi[sta:col_poi.shape[0],:])\n",
    "        return col_poi_batchs\n",
    "    \n",
    "    def train(self,col_poi_batch_size=None,iter_nums=1,optimizer=None):\n",
    "        if optimizer is None:\n",
    "            optimizer = self.optimizer\n",
    "        if col_poi_batch_size is None:\n",
    "            col_poi_batch_size=self.tx_col.shape[0]\n",
    "        # create training dataset (index) for collocation points\n",
    "        # 1st method: loop thourgh all points in batch and in order\n",
    "        col_poi_batchs = self.col_poi_batch_index_sta_end(self.txy_col,col_poi_batch_size)\n",
    "#         # 2nd method: loop thourgh all points randomly in batch\n",
    "        \n",
    "        for tx_col_batch in col_poi_batchs:\n",
    "#             # Compute loss: function loss + BC/IC loss\n",
    "#             loss1 = self.loss_PDE(tx_col_batch) \n",
    "#             loss2 = self.loss_BC()\n",
    "#             loss3 = self.loss_IC()  \n",
    "#             loss = loss1 + loss2 + 2*loss3 # large on IC\n",
    "# #             loss = loss3\n",
    "#             # Backpropagation\n",
    "#             optimizer.zero_grad()\n",
    "#             loss.backward()\n",
    "#             optimizer.step()\n",
    "            # Compute loss: function loss + BC/IC loss\n",
    "            # Backpropagation\n",
    "            optimizer.zero_grad()\n",
    "            loss1 = self.loss_PDE(tx_col_batch) \n",
    "            loss1.backward()\n",
    "            optimizer.step()\n",
    "            \n",
    "            optimizer.zero_grad()\n",
    "            loss2 = self.loss_BC()\n",
    "            loss2.backward()\n",
    "            optimizer.step()\n",
    "            \n",
    "            optimizer.zero_grad()\n",
    "            loss3 = self.loss_IC()  \n",
    "            loss3.backward()\n",
    "            optimizer.step()\n",
    "        return [loss1.item(),loss2.item(),loss3.item()]\n",
    "#         return [loss3.item(),loss3.item(),loss3.item()]\n",
    "    def predict(self,col_points=None):\n",
    "        if col_points is None:\n",
    "            col_points = self.txy_col\n",
    "        with torch.no_grad():\n",
    "            output = self.NN_model(col_points)\n",
    "        return output\n",
    "    def current_loss(self):\n",
    "        # Compute loss: function loss + BC/IC loss\n",
    "        loss1 = self.loss_PDE(self.txy_col) \n",
    "        loss2 = self.loss_BC()\n",
    "        loss3 = self.loss_IC()  \n",
    "        return [loss1.item(),loss2.item(),loss3.item()]"
   ]
  },
  {
   "cell_type": "code",
   "execution_count": 5,
   "metadata": {},
   "outputs": [],
   "source": [
    "def analytical_results(x_axis,y_axis,x_new,y_new,t_new,IC_func):\n",
    "    output = np.zeros((t_new.size,x_new.size,y_new.size),dtype='float32')\n",
    "    for i in range(t_new.size):\n",
    "        x_tmp =  x_trace_back(x_axis,x_new,t_new[i])\n",
    "        y_tmp =  x_trace_back(y_axis,y_new,t_new[i])\n",
    "        x_mesh,y_mesh = np.meshgrid(x_tmp,y_tmp,indexing='ij')\n",
    "        output[i,:,:] =  IC_func(x_mesh.flatten(),y_mesh.flatten()).reshape((201,201))\n",
    "    return output\n",
    "def x_trace_back(x_axis,x,t):\n",
    "    xmax = x_axis.max()\n",
    "    xmin = x_axis.min()\n",
    "    x_axis_range = xmax-xmin\n",
    "    x_rev = x-t\n",
    "    offset = x_rev.max()-xmax\n",
    "    x_rev = x_rev-int(offset/(x_axis_range))*(x_axis_range)\n",
    "    x_rev = np.where(np.logical_and(x_rev>=xmin, x_rev<xmax),x_rev,x_rev+x_axis_range)\n",
    "    return x_rev  "
   ]
  },
  {
   "cell_type": "code",
   "execution_count": 6,
   "metadata": {},
   "outputs": [
    {
     "name": "stdout",
     "output_type": "stream",
     "text": [
      "CPU times: user 3.04 s, sys: 971 ms, total: 4.01 s\n",
      "Wall time: 10 s\n"
     ]
    }
   ],
   "source": [
    "%%time\n",
    "# set regular grid\n",
    "t_axis = np.arange(0,2,0.01,dtype='float32')    # time\n",
    "x_axis = np.arange(-1,1+1e-3,0.01,dtype='float32')   # space\n",
    "y_axis = np.arange(-1,1+1e-3,0.01,dtype='float32')   # space\n",
    " \n",
    "def IC_func(x, y): # set IC \n",
    "    return np.sin(x*y*np.pi).astype('float32')\n",
    "#     return np.sign(x*y).astype('float32')\n",
    "def IC_func(x, y):\n",
    "#     IC = np.ones_like(x)\n",
    "    r=x**2+y**2\n",
    "    IC = np.where(np.logical_and(r>=0.04, r<0.25),0.9,0).astype('float32')\n",
    "    return IC\n",
    "\n",
    "adv_1d_solver = PINN(t_axis=t_axis, \n",
    "                     x_axis=x_axis,\n",
    "                     y_axis=y_axis,\n",
    "                     IC_func=IC_func)"
   ]
  },
  {
   "cell_type": "code",
   "execution_count": 7,
   "metadata": {},
   "outputs": [
    {
     "name": "stdout",
     "output_type": "stream",
     "text": [
      "Epoch     0 | PDE loss: 0.00000 | BC loss: 0.00000 | IC loss: 0.11051 \n",
      "Epoch    20 | PDE loss: 0.00517 | BC loss: 0.01015 | IC loss: 0.06712 \n",
      "Epoch    40 | PDE loss: 0.00114 | BC loss: 0.01465 | IC loss: 0.04059 \n",
      "Epoch    60 | PDE loss: 0.00221 | BC loss: 0.00979 | IC loss: 0.02560 \n",
      "Epoch    80 | PDE loss: 0.00186 | BC loss: 0.00499 | IC loss: 0.01768 \n",
      "Epoch   100 | PDE loss: 0.00139 | BC loss: 0.00615 | IC loss: 0.01078 \n",
      "Epoch   120 | PDE loss: 0.00077 | BC loss: 0.00232 | IC loss: 0.00827 \n",
      "Epoch   140 | PDE loss: 0.00050 | BC loss: 0.00229 | IC loss: 0.00656 \n",
      "Epoch   160 | PDE loss: 0.00035 | BC loss: 0.00233 | IC loss: 0.00573 \n",
      "Epoch   180 | PDE loss: 0.00031 | BC loss: 0.00191 | IC loss: 0.00530 \n",
      "Epoch   200 | PDE loss: 0.00042 | BC loss: 0.00211 | IC loss: 0.00490 \n",
      "Epoch   220 | PDE loss: 0.00041 | BC loss: 0.00194 | IC loss: 0.00455 \n",
      "Epoch   240 | PDE loss: 0.00019 | BC loss: 0.00164 | IC loss: 0.00433 \n",
      "Epoch   260 | PDE loss: 0.00016 | BC loss: 0.00186 | IC loss: 0.00415 \n",
      "Epoch   280 | PDE loss: 0.00029 | BC loss: 0.00120 | IC loss: 0.00399 \n",
      "Epoch   300 | PDE loss: 0.00024 | BC loss: 0.00176 | IC loss: 0.00388 \n",
      "Epoch   320 | PDE loss: 0.00018 | BC loss: 0.00117 | IC loss: 0.00388 \n",
      "Epoch   340 | PDE loss: 0.00021 | BC loss: 0.00133 | IC loss: 0.00357 \n",
      "Epoch   360 | PDE loss: 0.00021 | BC loss: 0.00108 | IC loss: 0.00377 \n",
      "Epoch   380 | PDE loss: 0.00016 | BC loss: 0.00141 | IC loss: 0.00334 \n",
      "CPU times: user 6min 33s, sys: 4min 2s, total: 10min 36s\n",
      "Wall time: 10min 34s\n"
     ]
    }
   ],
   "source": [
    "%%time\n",
    "N_save_num = 20 # how many times of output\n",
    "N_epoh_batch = 20\n",
    "N_epoch = N_save_num*N_epoh_batch\n",
    "predict_save = np.zeros((N_save_num,t_axis.size,x_axis.size,y_axis.size),dtype='float32')\n",
    "loss = []\n",
    "for i in range(N_epoch):\n",
    "    # train and get loss: iter_nums per epoch\n",
    "    adv_1d_solver.train(col_poi_batch_size=int(t_axis.size*x_axis.size*y_axis.size/10))\n",
    "    if i%N_epoh_batch == 0:    \n",
    "        loss_tmp = adv_1d_solver.current_loss()\n",
    "        loss.append(loss_tmp)\n",
    "        print(f'Epoch {i:5d} ' \n",
    "             +f'| PDE loss: {loss_tmp[0]:7.5f} '\n",
    "             +f'| BC loss: { loss_tmp[1]:7.5f} '\n",
    "             +f'| IC loss: { loss_tmp[2]:7.5f} ')\n",
    "        # predict and save output of NN_model\n",
    "        output = adv_1d_solver.predict()\n",
    "        predict_save[int(i/N_epoh_batch),:,:,:] = output.to('cpu').reshape((t_axis.size,x_axis.size,y_axis.size))"
   ]
  },
  {
   "cell_type": "code",
   "execution_count": 8,
   "metadata": {},
   "outputs": [
    {
     "data": {
      "text/plain": [
       "<matplotlib.legend.Legend at 0x7f5e2ba06f50>"
      ]
     },
     "execution_count": 8,
     "metadata": {},
     "output_type": "execute_result"
    },
    {
     "data": {
      "image/png": "[encoded data removed]",
      "text/plain": [
       "<Figure size 600x300 with 1 Axes>"
      ]
     },
     "metadata": {
      "needs_background": "light"
     },
     "output_type": "display_data"
    }
   ],
   "source": [
    "#plot loss\n",
    "loss = np.array(loss)\n",
    "fig, axs = plt.subplots(nrows=1,ncols=1, figsize=(4,2),dpi=150) \n",
    "axs.plot(np.arange(loss.shape[0]),np.log(loss[:,0]),label='PDF loss')\n",
    "axs.plot(np.arange(loss.shape[0]),np.log(loss[:,1]),label='BC loss')\n",
    "axs.plot(np.arange(loss.shape[0]),np.log(loss[:,2]),label='IC loss')\n",
    "axs.legend(frameon=False)"
   ]
  },
  {
   "cell_type": "code",
   "execution_count": 9,
   "metadata": {},
   "outputs": [
    {
     "name": "stderr",
     "output_type": "stream",
     "text": [
      "/tmp/ipykernel_251356/757931476.py:34: UserWarning: This figure includes Axes that are not compatible with tight_layout, so results might be incorrect.\n",
      "  fig.tight_layout()\n"
     ]
    },
    {
     "data": {
      "image/png": "[encoded data removed]",
      "text/plain": [
       "<Figure size 800x500 with 16 Axes>"
      ]
     },
     "metadata": {
      "needs_background": "light"
     },
     "output_type": "display_data"
    }
   ],
   "source": [
    "output_truth = analytical_results(x_axis,y_axis,x_axis,y_axis,t_axis,IC_func)\n",
    "x_mesh,y_mesh = np.meshgrid(x_axis,y_axis,indexing='ij')\n",
    "fig, axs = plt.subplots(nrows=3,ncols=5, figsize=(8,5),dpi=100) \n",
    "levels = np.arange(-1,1.05,0.1)\n",
    "cmap = plt.cm.RdBu_r\n",
    "norm = BoundaryNorm(levels, ncolors=cmap.N, clip=True)\n",
    "axs[0,0].set_ylabel('IC')\n",
    "cb = axs[0,0].pcolormesh(x_mesh,y_mesh ,output_truth[0,:,:],\n",
    "                    shading='nearest',cmap=cmap, norm=norm)\n",
    "for i in range(1,5):\n",
    "    ax = axs[0,i]\n",
    "    plt.axis('off')\n",
    "    n_save = i*4-1\n",
    "    ax.set_xlabel(f'n_epoh={n_save*N_epoh_batch}')\n",
    "    ax.pcolormesh(x_mesh,y_mesh ,predict_save[n_save,0,:,:].T,\n",
    "                  shading='nearest',cmap=cmap, norm=norm)\n",
    "\n",
    "axs[1,0].set_ylabel(f'Truth')\n",
    "axs[2,0].set_ylabel(f'Predict')\n",
    "for t_i in range(0,5):\n",
    "    t_n = t_i*20+15\n",
    "#     axs[1,t_i].set_xlabel(f't={t_n/100:3.1f}')\n",
    "    axs[1,t_i].pcolormesh(x_mesh,y_mesh ,output_truth[t_n,:,:].T,\n",
    "                          shading='nearest',cmap=cmap, norm=norm)\n",
    "    axs[2,t_i].set_xlabel(f't={t_n/100:3.1f}')\n",
    "    axs[2,t_i].pcolormesh(x_mesh,y_mesh ,predict_save[-1,t_n,:,:].T,\n",
    "                          shading='nearest',cmap=cmap, norm=norm)\n",
    "for ax in axs.flatten():\n",
    "    ax.axis('off')\n",
    "# Add a colorbar axis at the bottom of the graph\n",
    "cbar_ax = fig.add_axes([0.99, 0.3, 0.02, 0.4])\n",
    "# Draw the colorbar\n",
    "cbar = fig.colorbar(cb, cax=cbar_ax,orientation='vertical')\n",
    "fig.tight_layout()"
   ]
  },
  {
   "cell_type": "code",
   "execution_count": 10,
   "metadata": {},
   "outputs": [
    {
     "ename": "TypeError",
     "evalue": "analytical_results() missing 2 required positional arguments: 't_new' and 'IC_func'",
     "output_type": "error",
     "traceback": [
      "\u001b[0;31m---------------------------------------------------------------------------\u001b[0m",
      "\u001b[0;31mTypeError\u001b[0m                                 Traceback (most recent call last)",
      "Input \u001b[0;32mIn [10]\u001b[0m, in \u001b[0;36m<cell line: 1>\u001b[0;34m()\u001b[0m\n\u001b[0;32m----> 1\u001b[0m output_truth \u001b[38;5;241m=\u001b[39m \u001b[43manalytical_results\u001b[49m\u001b[43m(\u001b[49m\u001b[43mx_axis\u001b[49m\u001b[43m,\u001b[49m\u001b[43mx_axis\u001b[49m\u001b[43m,\u001b[49m\u001b[43mt_axis\u001b[49m\u001b[43m,\u001b[49m\u001b[43mIC_func\u001b[49m\u001b[43m)\u001b[49m\n\u001b[1;32m      2\u001b[0m fig, axs \u001b[38;5;241m=\u001b[39m plt\u001b[38;5;241m.\u001b[39msubplots(nrows\u001b[38;5;241m=\u001b[39m\u001b[38;5;241m2\u001b[39m,ncols\u001b[38;5;241m=\u001b[39m\u001b[38;5;241m2\u001b[39m, figsize\u001b[38;5;241m=\u001b[39m(\u001b[38;5;241m6\u001b[39m,\u001b[38;5;241m4\u001b[39m),dpi\u001b[38;5;241m=\u001b[39m\u001b[38;5;241m200\u001b[39m) \n\u001b[1;32m      3\u001b[0m axs \u001b[38;5;241m=\u001b[39m axs\u001b[38;5;241m.\u001b[39mflatten()\n",
      "\u001b[0;31mTypeError\u001b[0m: analytical_results() missing 2 required positional arguments: 't_new' and 'IC_func'"
     ]
    }
   ],
   "source": [
    "output_truth = analytical_results(x_axis,x_axis,t_axis,IC_func)\n",
    "fig, axs = plt.subplots(nrows=2,ncols=2, figsize=(6,4),dpi=200) \n",
    "axs = axs.flatten()\n",
    "levels = np.arange(-1,1.05,0.1)\n",
    "ax = axs[0]\n",
    "ax.contourf(np.arange(N_save),x_axis,predict_iterms[:,0,:].T,\n",
    "                 levels=levels,extend='both',cmap=plt.cm.RdBu_r)\n",
    "\n",
    "ax.set_xlabel('N_save')\n",
    "ax.set_ylabel('x_axis')\n",
    "ax = axs[1]\n",
    "ax.contourf(t_axis,x_axis,predict_iterms[-1,:,:].T,\n",
    "                 levels=levels,extend='both',cmap=plt.cm.RdBu_r)\n",
    "\n",
    "ax.set_xlabel('t_axis')\n",
    "ax.set_ylabel('x_axis')\n",
    "ax = axs[2]\n",
    "ax.contourf(np.arange(N_save),x_axis,\n",
    "            np.repeat(output_truth[None,0,:].T, N_save, axis=1),\n",
    "             levels=levels,extend='both',cmap=plt.cm.RdBu_r)\n",
    "\n",
    "ax.set_xlabel('N_save')\n",
    "ax.set_ylabel('x_axis')\n",
    "ax = axs[3]\n",
    "cb = ax.contourf(t_axis,x_axis,output_truth.T,\n",
    "                 levels=levels,extend='both',cmap=plt.cm.RdBu_r)\n",
    "\n",
    "ax.set_xlabel('t_axis')\n",
    "ax.set_ylabel('x_axis')\n",
    "# Add a colorbar axis at the bottom of the graph\n",
    "cbar_ax = fig.add_axes([0.99, 0.3, 0.02, 0.4])\n",
    "# Draw the colorbar\n",
    "cbar = fig.colorbar(cb, cax=cbar_ax,orientation='vertical')\n",
    "fig.tight_layout()"
   ]
  },
  {
   "cell_type": "code",
   "execution_count": null,
   "metadata": {},
   "outputs": [],
   "source": [
    "# high resolution output\n",
    "# regular grid\n",
    "t_hr = np.arange(0,2,0.01,dtype='float32')    # time\n",
    "x_hr = np.arange(-1,1+1e-3,1e-2,dtype='float32')   # space\n",
    "t_hr_nor,x_hr_nor = adv_1d_solver.coordination_normalization(t_hr,x_hr)\n",
    "hr_tx = adv_1d_solver.cartesian_coord_to_ij(t_hr_nor,x_hr_nor)"
   ]
  },
  {
   "cell_type": "code",
   "execution_count": null,
   "metadata": {},
   "outputs": [],
   "source": [
    "output = adv_1d_solver.predict(hr_tx).to('cpu').reshape((t_hr.size,x_hr.size))\n",
    "fig, axs = plt.subplots(nrows=1,ncols=1, figsize=(4,2),dpi=300) \n",
    "ax = axs\n",
    "for t_i in np.arange(1,50,5):\n",
    "    p=ax.plot(x_hr,output[t_i,:],linewidth=1,label = f\"t = {t_hr[t_i]:4.2f}\")\n",
    "    x_tmp = x_trace_back(x_axis,x_hr,t_hr[t_i])\n",
    "    ax.plot(x_hr,IC_func(x_tmp),'--',c=p[0].get_color())\n",
    "# ax.legend()\n",
    "ax.set_xlabel('x_axis iter')\n",
    "ax.set_ylabel('amplitude')\n",
    "fig.tight_layout()"
   ]
  },
  {
   "cell_type": "code",
   "execution_count": null,
   "metadata": {},
   "outputs": [],
   "source": []
  }
 ],
 "metadata": {
  "kernelspec": {
   "display_name": "pytorch",
   "language": "python",
   "name": "pytorch"
  },
  "language_info": {
   "codemirror_mode": {
    "name": "ipython",
    "version": 3
   },
   "file_extension": ".py",
   "mimetype": "text/x-python",
   "name": "python",
   "nbconvert_exporter": "python",
   "pygments_lexer": "ipython3",
   "version": "3.10.4"
  }
 },
 "nbformat": 4,
 "nbformat_minor": 4
}
